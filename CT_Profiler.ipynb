{
  "nbformat": 4,
  "nbformat_minor": 0,
  "metadata": {
    "colab": {
      "name": "CT_Profiler",
      "provenance": [],
      "collapsed_sections": []
    },
    "kernelspec": {
      "name": "python3",
      "display_name": "Python 3"
    },
    "language_info": {
      "name": "python"
    }
  },
  "cells": [
    {
      "cell_type": "code",
      "metadata": {
        "id": "BhWvNh5vCIat"
      },
      "source": [
        "!pip install itk itk-ioscanco tqdm requests itkwidgets aicssegmentation"
      ],
      "execution_count": null,
      "outputs": []
    },
    {
      "cell_type": "code",
      "metadata": {
        "id": "2Yr-gRAhCZLk"
      },
      "source": [
        "import sys\n",
        "import requests\n",
        "from tqdm.notebook import tqdm\n",
        "import os\n",
        "\n",
        "from itkwidgets import view\n",
        "\n",
        "import itk"
      ],
      "execution_count": null,
      "outputs": []
    },
    {
      "cell_type": "code",
      "metadata": {
        "id": "gx0VLydGDAOV"
      },
      "source": [
        "imageio = itk.ScancoImageIO.New()\n",
        "image = itk.imread('/content/drive/MyDrive/Data/D0003752.ISQ;1', imageio=imageio)"
      ],
      "execution_count": null,
      "outputs": []
    },
    {
      "cell_type": "code",
      "metadata": {
        "id": "Fw3NuiUHE5kj"
      },
      "source": [
        "import numpy as np\n",
        "z = np.asarray(image)\n",
        "z[429].shape"
      ],
      "execution_count": null,
      "outputs": []
    },
    {
      "cell_type": "code",
      "metadata": {
        "id": "9RGN3kthLcF4"
      },
      "source": [
        "from matplotlib import pyplot as plt\n",
        "from ipywidgets import IntSlider\n",
        "from IPython.display import display, clear_output\n",
        "import numpy as np\n",
        "import cv2\n",
        "from google.colab.patches import cv2_imshow\n",
        "\n",
        "from matplotlib.pyplot import figure\n",
        "\n",
        "\n",
        "\n",
        "def slide(*args):\n",
        "    value = w.value\n",
        "    valuet = thresh.value\n",
        "    valued = depth.value\n",
        "    \n",
        "    clear_output()\n",
        "\n",
        "    display(w)\n",
        "    display(thresh)\n",
        "    display(depth)\n",
        "\n",
        "    w.value = value\n",
        "    thresh.value = valuet\n",
        "    depth.value = valued\n",
        "\n",
        "\n",
        "    slic = cv2.cvtColor(np.float32(z[w.value]), cv2.COLOR_GRAY2BGR)\n",
        "    can = cv2.Canny(slic.astype(np.uint8), depth.value, thresh.value)\n",
        "    can = cv2.resize(can, (256,256))\n",
        "    cv2_imshow(can)\n",
        "\n",
        "    figure(figsize=(8, 6), dpi=80)\n",
        "    plt.imshow(z[w.value], cmap = plt.get_cmap('Greys'), interpolation='nearest')\n",
        "    plt.show()\n",
        "    \n",
        "\n",
        "w = IntSlider(min=0,max=429, continuous_update=False)\n",
        "thresh = IntSlider(min=0,max=2000, continuous_update=False)\n",
        "depth = IntSlider(min=0,max=150, continuous_update=False)\n",
        "\n",
        "w.observe(slide, names= 'value')\n",
        "thresh.observe(slide, names= 'value')\n",
        "depth.observe(slide, names= 'value')\n",
        "\n",
        "display(w)\n",
        "display(thresh)\n",
        "display(depth)"
      ],
      "execution_count": null,
      "outputs": []
    },
    {
      "cell_type": "code",
      "metadata": {
        "id": "m73gYMyEP0fe"
      },
      "source": [
        "slic = cv2.cvtColor(np.float32(z[w.value]), cv2.COLOR_GRAY2BGR)\n",
        "slic.min()"
      ],
      "execution_count": null,
      "outputs": []
    },
    {
      "cell_type": "code",
      "metadata": {
        "id": "zWhVNk0GLKw4"
      },
      "source": [
        "\n",
        "import numpy as np\n",
        "x = cv2.cvtColor(np.float32(z[0]), cv2.COLOR_GRAY2BGR)\n",
        "y = cv2.Canny(x.astype(np.uint8), 30, 750)\n",
        "cv2_imshow(y)"
      ],
      "execution_count": null,
      "outputs": []
    },
    {
      "cell_type": "code",
      "metadata": {
        "id": "Aishe16Rft0d"
      },
      "source": [
        "plt.get_cmap('Greys')"
      ],
      "execution_count": null,
      "outputs": []
    }
  ]
}